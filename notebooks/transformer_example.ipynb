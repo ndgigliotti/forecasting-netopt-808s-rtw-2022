{
 "cells": [
  {
   "cell_type": "code",
   "execution_count": 1,
   "id": "178ef564",
   "metadata": {},
   "outputs": [],
   "source": [
    "%load_ext autoreload\n",
    "%autoreload 2\n",
    "\n",
    "import torch\n",
    "import torch.nn as nn\n",
    "import torch.optim as optim\n",
    "import numpy as np\n",
    "import pandas as pd\n",
    "import shutil\n",
    "from sklearn.preprocessing import MinMaxScaler\n",
    "from tqdm.notebook import tqdm\n",
    "\n",
    "import matplotlib.pyplot as plt\n",
    "\n",
    "from torch.utils.tensorboard import SummaryWriter\n",
    "from darts import TimeSeries\n",
    "from darts.dataprocessing.transformers import Scaler\n",
    "from darts.models import TransformerModel, ExponentialSmoothing\n",
    "from darts.metrics import mape\n",
    "from darts.utils.statistics import check_seasonality, plot_acf\n",
    "from darts.datasets import AirPassengersDataset, SunspotsDataset\n",
    "\n",
    "import warnings\n",
    "\n",
    "warnings.filterwarnings(\"ignore\")\n",
    "import logging\n",
    "\n",
    "logging.disable(logging.CRITICAL)"
   ]
  },
  {
   "cell_type": "code",
   "execution_count": 2,
   "id": "9fb1397b",
   "metadata": {},
   "outputs": [
    {
     "data": {
      "text/html": [
       "<div><svg style=\"position: absolute; width: 0; height: 0; overflow: hidden\">\n",
       "<defs>\n",
       "<symbol id=\"icon-database\" viewBox=\"0 0 32 32\">\n",
       "<path d=\"M16 0c-8.837 0-16 2.239-16 5v4c0 2.761 7.163 5 16 5s16-2.239 16-5v-4c0-2.761-7.163-5-16-5z\"></path>\n",
       "<path d=\"M16 17c-8.837 0-16-2.239-16-5v6c0 2.761 7.163 5 16 5s16-2.239 16-5v-6c0 2.761-7.163 5-16 5z\"></path>\n",
       "<path d=\"M16 26c-8.837 0-16-2.239-16-5v6c0 2.761 7.163 5 16 5s16-2.239 16-5v-6c0 2.761-7.163 5-16 5z\"></path>\n",
       "</symbol>\n",
       "<symbol id=\"icon-file-text2\" viewBox=\"0 0 32 32\">\n",
       "<path d=\"M28.681 7.159c-0.694-0.947-1.662-2.053-2.724-3.116s-2.169-2.030-3.116-2.724c-1.612-1.182-2.393-1.319-2.841-1.319h-15.5c-1.378 0-2.5 1.121-2.5 2.5v27c0 1.378 1.122 2.5 2.5 2.5h23c1.378 0 2.5-1.122 2.5-2.5v-19.5c0-0.448-0.137-1.23-1.319-2.841zM24.543 5.457c0.959 0.959 1.712 1.825 2.268 2.543h-4.811v-4.811c0.718 0.556 1.584 1.309 2.543 2.268zM28 29.5c0 0.271-0.229 0.5-0.5 0.5h-23c-0.271 0-0.5-0.229-0.5-0.5v-27c0-0.271 0.229-0.5 0.5-0.5 0 0 15.499-0 15.5 0v7c0 0.552 0.448 1 1 1h7v19.5z\"></path>\n",
       "<path d=\"M23 26h-14c-0.552 0-1-0.448-1-1s0.448-1 1-1h14c0.552 0 1 0.448 1 1s-0.448 1-1 1z\"></path>\n",
       "<path d=\"M23 22h-14c-0.552 0-1-0.448-1-1s0.448-1 1-1h14c0.552 0 1 0.448 1 1s-0.448 1-1 1z\"></path>\n",
       "<path d=\"M23 18h-14c-0.552 0-1-0.448-1-1s0.448-1 1-1h14c0.552 0 1 0.448 1 1s-0.448 1-1 1z\"></path>\n",
       "</symbol>\n",
       "</defs>\n",
       "</svg>\n",
       "<style>/* CSS stylesheet for displaying xarray objects in jupyterlab.\n",
       " *\n",
       " */\n",
       "\n",
       ":root {\n",
       "  --xr-font-color0: var(--jp-content-font-color0, rgba(0, 0, 0, 1));\n",
       "  --xr-font-color2: var(--jp-content-font-color2, rgba(0, 0, 0, 0.54));\n",
       "  --xr-font-color3: var(--jp-content-font-color3, rgba(0, 0, 0, 0.38));\n",
       "  --xr-border-color: var(--jp-border-color2, #e0e0e0);\n",
       "  --xr-disabled-color: var(--jp-layout-color3, #bdbdbd);\n",
       "  --xr-background-color: var(--jp-layout-color0, white);\n",
       "  --xr-background-color-row-even: var(--jp-layout-color1, white);\n",
       "  --xr-background-color-row-odd: var(--jp-layout-color2, #eeeeee);\n",
       "}\n",
       "\n",
       "html[theme=dark],\n",
       "body[data-theme=dark],\n",
       "body.vscode-dark {\n",
       "  --xr-font-color0: rgba(255, 255, 255, 1);\n",
       "  --xr-font-color2: rgba(255, 255, 255, 0.54);\n",
       "  --xr-font-color3: rgba(255, 255, 255, 0.38);\n",
       "  --xr-border-color: #1F1F1F;\n",
       "  --xr-disabled-color: #515151;\n",
       "  --xr-background-color: #111111;\n",
       "  --xr-background-color-row-even: #111111;\n",
       "  --xr-background-color-row-odd: #313131;\n",
       "}\n",
       "\n",
       ".xr-wrap {\n",
       "  display: block !important;\n",
       "  min-width: 300px;\n",
       "  max-width: 700px;\n",
       "}\n",
       "\n",
       ".xr-text-repr-fallback {\n",
       "  /* fallback to plain text repr when CSS is not injected (untrusted notebook) */\n",
       "  display: none;\n",
       "}\n",
       "\n",
       ".xr-header {\n",
       "  padding-top: 6px;\n",
       "  padding-bottom: 6px;\n",
       "  margin-bottom: 4px;\n",
       "  border-bottom: solid 1px var(--xr-border-color);\n",
       "}\n",
       "\n",
       ".xr-header > div,\n",
       ".xr-header > ul {\n",
       "  display: inline;\n",
       "  margin-top: 0;\n",
       "  margin-bottom: 0;\n",
       "}\n",
       "\n",
       ".xr-obj-type,\n",
       ".xr-array-name {\n",
       "  margin-left: 2px;\n",
       "  margin-right: 10px;\n",
       "}\n",
       "\n",
       ".xr-obj-type {\n",
       "  color: var(--xr-font-color2);\n",
       "}\n",
       "\n",
       ".xr-sections {\n",
       "  padding-left: 0 !important;\n",
       "  display: grid;\n",
       "  grid-template-columns: 150px auto auto 1fr 20px 20px;\n",
       "}\n",
       "\n",
       ".xr-section-item {\n",
       "  display: contents;\n",
       "}\n",
       "\n",
       ".xr-section-item input {\n",
       "  display: none;\n",
       "}\n",
       "\n",
       ".xr-section-item input + label {\n",
       "  color: var(--xr-disabled-color);\n",
       "}\n",
       "\n",
       ".xr-section-item input:enabled + label {\n",
       "  cursor: pointer;\n",
       "  color: var(--xr-font-color2);\n",
       "}\n",
       "\n",
       ".xr-section-item input:enabled + label:hover {\n",
       "  color: var(--xr-font-color0);\n",
       "}\n",
       "\n",
       ".xr-section-summary {\n",
       "  grid-column: 1;\n",
       "  color: var(--xr-font-color2);\n",
       "  font-weight: 500;\n",
       "}\n",
       "\n",
       ".xr-section-summary > span {\n",
       "  display: inline-block;\n",
       "  padding-left: 0.5em;\n",
       "}\n",
       "\n",
       ".xr-section-summary-in:disabled + label {\n",
       "  color: var(--xr-font-color2);\n",
       "}\n",
       "\n",
       ".xr-section-summary-in + label:before {\n",
       "  display: inline-block;\n",
       "  content: '►';\n",
       "  font-size: 11px;\n",
       "  width: 15px;\n",
       "  text-align: center;\n",
       "}\n",
       "\n",
       ".xr-section-summary-in:disabled + label:before {\n",
       "  color: var(--xr-disabled-color);\n",
       "}\n",
       "\n",
       ".xr-section-summary-in:checked + label:before {\n",
       "  content: '▼';\n",
       "}\n",
       "\n",
       ".xr-section-summary-in:checked + label > span {\n",
       "  display: none;\n",
       "}\n",
       "\n",
       ".xr-section-summary,\n",
       ".xr-section-inline-details {\n",
       "  padding-top: 4px;\n",
       "  padding-bottom: 4px;\n",
       "}\n",
       "\n",
       ".xr-section-inline-details {\n",
       "  grid-column: 2 / -1;\n",
       "}\n",
       "\n",
       ".xr-section-details {\n",
       "  display: none;\n",
       "  grid-column: 1 / -1;\n",
       "  margin-bottom: 5px;\n",
       "}\n",
       "\n",
       ".xr-section-summary-in:checked ~ .xr-section-details {\n",
       "  display: contents;\n",
       "}\n",
       "\n",
       ".xr-array-wrap {\n",
       "  grid-column: 1 / -1;\n",
       "  display: grid;\n",
       "  grid-template-columns: 20px auto;\n",
       "}\n",
       "\n",
       ".xr-array-wrap > label {\n",
       "  grid-column: 1;\n",
       "  vertical-align: top;\n",
       "}\n",
       "\n",
       ".xr-preview {\n",
       "  color: var(--xr-font-color3);\n",
       "}\n",
       "\n",
       ".xr-array-preview,\n",
       ".xr-array-data {\n",
       "  padding: 0 5px !important;\n",
       "  grid-column: 2;\n",
       "}\n",
       "\n",
       ".xr-array-data,\n",
       ".xr-array-in:checked ~ .xr-array-preview {\n",
       "  display: none;\n",
       "}\n",
       "\n",
       ".xr-array-in:checked ~ .xr-array-data,\n",
       ".xr-array-preview {\n",
       "  display: inline-block;\n",
       "}\n",
       "\n",
       ".xr-dim-list {\n",
       "  display: inline-block !important;\n",
       "  list-style: none;\n",
       "  padding: 0 !important;\n",
       "  margin: 0;\n",
       "}\n",
       "\n",
       ".xr-dim-list li {\n",
       "  display: inline-block;\n",
       "  padding: 0;\n",
       "  margin: 0;\n",
       "}\n",
       "\n",
       ".xr-dim-list:before {\n",
       "  content: '(';\n",
       "}\n",
       "\n",
       ".xr-dim-list:after {\n",
       "  content: ')';\n",
       "}\n",
       "\n",
       ".xr-dim-list li:not(:last-child):after {\n",
       "  content: ',';\n",
       "  padding-right: 5px;\n",
       "}\n",
       "\n",
       ".xr-has-index {\n",
       "  font-weight: bold;\n",
       "}\n",
       "\n",
       ".xr-var-list,\n",
       ".xr-var-item {\n",
       "  display: contents;\n",
       "}\n",
       "\n",
       ".xr-var-item > div,\n",
       ".xr-var-item label,\n",
       ".xr-var-item > .xr-var-name span {\n",
       "  background-color: var(--xr-background-color-row-even);\n",
       "  margin-bottom: 0;\n",
       "}\n",
       "\n",
       ".xr-var-item > .xr-var-name:hover span {\n",
       "  padding-right: 5px;\n",
       "}\n",
       "\n",
       ".xr-var-list > li:nth-child(odd) > div,\n",
       ".xr-var-list > li:nth-child(odd) > label,\n",
       ".xr-var-list > li:nth-child(odd) > .xr-var-name span {\n",
       "  background-color: var(--xr-background-color-row-odd);\n",
       "}\n",
       "\n",
       ".xr-var-name {\n",
       "  grid-column: 1;\n",
       "}\n",
       "\n",
       ".xr-var-dims {\n",
       "  grid-column: 2;\n",
       "}\n",
       "\n",
       ".xr-var-dtype {\n",
       "  grid-column: 3;\n",
       "  text-align: right;\n",
       "  color: var(--xr-font-color2);\n",
       "}\n",
       "\n",
       ".xr-var-preview {\n",
       "  grid-column: 4;\n",
       "}\n",
       "\n",
       ".xr-index-preview {\n",
       "  grid-column: 2 / 5;\n",
       "  color: var(--xr-font-color2);\n",
       "}\n",
       "\n",
       ".xr-var-name,\n",
       ".xr-var-dims,\n",
       ".xr-var-dtype,\n",
       ".xr-preview,\n",
       ".xr-attrs dt {\n",
       "  white-space: nowrap;\n",
       "  overflow: hidden;\n",
       "  text-overflow: ellipsis;\n",
       "  padding-right: 10px;\n",
       "}\n",
       "\n",
       ".xr-var-name:hover,\n",
       ".xr-var-dims:hover,\n",
       ".xr-var-dtype:hover,\n",
       ".xr-attrs dt:hover {\n",
       "  overflow: visible;\n",
       "  width: auto;\n",
       "  z-index: 1;\n",
       "}\n",
       "\n",
       ".xr-var-attrs,\n",
       ".xr-var-data,\n",
       ".xr-index-data {\n",
       "  display: none;\n",
       "  background-color: var(--xr-background-color) !important;\n",
       "  padding-bottom: 5px !important;\n",
       "}\n",
       "\n",
       ".xr-var-attrs-in:checked ~ .xr-var-attrs,\n",
       ".xr-var-data-in:checked ~ .xr-var-data,\n",
       ".xr-index-data-in:checked ~ .xr-index-data {\n",
       "  display: block;\n",
       "}\n",
       "\n",
       ".xr-var-data > table {\n",
       "  float: right;\n",
       "}\n",
       "\n",
       ".xr-var-name span,\n",
       ".xr-var-data,\n",
       ".xr-index-name div,\n",
       ".xr-index-data,\n",
       ".xr-attrs {\n",
       "  padding-left: 25px !important;\n",
       "}\n",
       "\n",
       ".xr-attrs,\n",
       ".xr-var-attrs,\n",
       ".xr-var-data,\n",
       ".xr-index-data {\n",
       "  grid-column: 1 / -1;\n",
       "}\n",
       "\n",
       "dl.xr-attrs {\n",
       "  padding: 0;\n",
       "  margin: 0;\n",
       "  display: grid;\n",
       "  grid-template-columns: 125px auto;\n",
       "}\n",
       "\n",
       ".xr-attrs dt,\n",
       ".xr-attrs dd {\n",
       "  padding: 0;\n",
       "  margin: 0;\n",
       "  float: left;\n",
       "  padding-right: 10px;\n",
       "  width: auto;\n",
       "}\n",
       "\n",
       ".xr-attrs dt {\n",
       "  font-weight: normal;\n",
       "  grid-column: 1;\n",
       "}\n",
       "\n",
       ".xr-attrs dt:hover span {\n",
       "  display: inline-block;\n",
       "  background: var(--xr-background-color);\n",
       "  padding-right: 10px;\n",
       "}\n",
       "\n",
       ".xr-attrs dd {\n",
       "  grid-column: 2;\n",
       "  white-space: pre-wrap;\n",
       "  word-break: break-all;\n",
       "}\n",
       "\n",
       ".xr-icon-database,\n",
       ".xr-icon-file-text2,\n",
       ".xr-no-icon {\n",
       "  display: inline-block;\n",
       "  vertical-align: middle;\n",
       "  width: 1em;\n",
       "  height: 1.5em !important;\n",
       "  stroke-width: 0;\n",
       "  stroke: currentColor;\n",
       "  fill: currentColor;\n",
       "}\n",
       "</style><pre class='xr-text-repr-fallback'>&lt;TimeSeries (DataArray) (Month: 121, component: 1, sample: 1)&gt;\n",
       "array([[[0.01995012]],\n",
       "\n",
       "       [[0.03491271]],\n",
       "\n",
       "       [[0.06982544]],\n",
       "\n",
       "       [[0.06234413]],\n",
       "\n",
       "       [[0.04239401]],\n",
       "\n",
       "       [[0.07730672]],\n",
       "\n",
       "       [[0.10972568]],\n",
       "\n",
       "       [[0.10972568]],\n",
       "\n",
       "       [[0.07980049]],\n",
       "\n",
       "       [[0.03740647]],\n",
       "\n",
       "...\n",
       "\n",
       "       [[0.6084788 ]],\n",
       "\n",
       "       [[0.64588535]],\n",
       "\n",
       "       [[0.8254365 ]],\n",
       "\n",
       "       [[0.9650873 ]],\n",
       "\n",
       "       [[1.        ]],\n",
       "\n",
       "       [[0.7481297 ]],\n",
       "\n",
       "       [[0.6359103 ]],\n",
       "\n",
       "       [[0.51371574]],\n",
       "\n",
       "       [[0.5810474 ]],\n",
       "\n",
       "       [[0.638404  ]]], dtype=float32)\n",
       "Coordinates:\n",
       "  * Month      (Month) datetime64[ns] 1949-01-01 1949-02-01 ... 1959-01-01\n",
       "  * component  (component) object &#x27;#Passengers&#x27;\n",
       "Dimensions without coordinates: sample\n",
       "Attributes:\n",
       "    static_covariates:  None\n",
       "    hierarchy:          None</pre><div class='xr-wrap' style='display:none'><div class='xr-header'><div class='xr-obj-type'>TimeSeries (DataArray)</div><div class='xr-array-name'></div><ul class='xr-dim-list'><li><span class='xr-has-index'>Month</span>: 121</li><li><span class='xr-has-index'>component</span>: 1</li><li><span>sample</span>: 1</li></ul></div><ul class='xr-sections'><li class='xr-section-item'><div class='xr-array-wrap'><input id='section-026e8f9c-545b-49ee-ab5e-f3647d0b0458' class='xr-array-in' type='checkbox' checked><label for='section-026e8f9c-545b-49ee-ab5e-f3647d0b0458' title='Show/hide data repr'><svg class='icon xr-icon-database'><use xlink:href='#icon-database'></use></svg></label><div class='xr-array-preview xr-preview'><span>0.01995 0.03491 0.06983 0.06234 0.04239 ... 0.6359 0.5137 0.581 0.6384</span></div><div class='xr-array-data'><pre>array([[[0.01995012]],\n",
       "\n",
       "       [[0.03491271]],\n",
       "\n",
       "       [[0.06982544]],\n",
       "\n",
       "       [[0.06234413]],\n",
       "\n",
       "       [[0.04239401]],\n",
       "\n",
       "       [[0.07730672]],\n",
       "\n",
       "       [[0.10972568]],\n",
       "\n",
       "       [[0.10972568]],\n",
       "\n",
       "       [[0.07980049]],\n",
       "\n",
       "       [[0.03740647]],\n",
       "\n",
       "...\n",
       "\n",
       "       [[0.6084788 ]],\n",
       "\n",
       "       [[0.64588535]],\n",
       "\n",
       "       [[0.8254365 ]],\n",
       "\n",
       "       [[0.9650873 ]],\n",
       "\n",
       "       [[1.        ]],\n",
       "\n",
       "       [[0.7481297 ]],\n",
       "\n",
       "       [[0.6359103 ]],\n",
       "\n",
       "       [[0.51371574]],\n",
       "\n",
       "       [[0.5810474 ]],\n",
       "\n",
       "       [[0.638404  ]]], dtype=float32)</pre></div></div></li><li class='xr-section-item'><input id='section-80ef83ff-54f4-4d02-ac02-96680bb47099' class='xr-section-summary-in' type='checkbox'  checked><label for='section-80ef83ff-54f4-4d02-ac02-96680bb47099' class='xr-section-summary' >Coordinates: <span>(2)</span></label><div class='xr-section-inline-details'></div><div class='xr-section-details'><ul class='xr-var-list'><li class='xr-var-item'><div class='xr-var-name'><span class='xr-has-index'>Month</span></div><div class='xr-var-dims'>(Month)</div><div class='xr-var-dtype'>datetime64[ns]</div><div class='xr-var-preview xr-preview'>1949-01-01 ... 1959-01-01</div><input id='attrs-0a4adaf9-034e-4640-845a-3a2a832d1b1d' class='xr-var-attrs-in' type='checkbox' disabled><label for='attrs-0a4adaf9-034e-4640-845a-3a2a832d1b1d' title='Show/Hide attributes'><svg class='icon xr-icon-file-text2'><use xlink:href='#icon-file-text2'></use></svg></label><input id='data-81e0b4c2-9723-44e4-aab1-f3a12f4b9bd0' class='xr-var-data-in' type='checkbox'><label for='data-81e0b4c2-9723-44e4-aab1-f3a12f4b9bd0' title='Show/Hide data repr'><svg class='icon xr-icon-database'><use xlink:href='#icon-database'></use></svg></label><div class='xr-var-attrs'><dl class='xr-attrs'></dl></div><div class='xr-var-data'><pre>array([&#x27;1949-01-01T00:00:00.000000000&#x27;, &#x27;1949-02-01T00:00:00.000000000&#x27;,\n",
       "       &#x27;1949-03-01T00:00:00.000000000&#x27;, &#x27;1949-04-01T00:00:00.000000000&#x27;,\n",
       "       &#x27;1949-05-01T00:00:00.000000000&#x27;, &#x27;1949-06-01T00:00:00.000000000&#x27;,\n",
       "       &#x27;1949-07-01T00:00:00.000000000&#x27;, &#x27;1949-08-01T00:00:00.000000000&#x27;,\n",
       "       &#x27;1949-09-01T00:00:00.000000000&#x27;, &#x27;1949-10-01T00:00:00.000000000&#x27;,\n",
       "       &#x27;1949-11-01T00:00:00.000000000&#x27;, &#x27;1949-12-01T00:00:00.000000000&#x27;,\n",
       "       &#x27;1950-01-01T00:00:00.000000000&#x27;, &#x27;1950-02-01T00:00:00.000000000&#x27;,\n",
       "       &#x27;1950-03-01T00:00:00.000000000&#x27;, &#x27;1950-04-01T00:00:00.000000000&#x27;,\n",
       "       &#x27;1950-05-01T00:00:00.000000000&#x27;, &#x27;1950-06-01T00:00:00.000000000&#x27;,\n",
       "       &#x27;1950-07-01T00:00:00.000000000&#x27;, &#x27;1950-08-01T00:00:00.000000000&#x27;,\n",
       "       &#x27;1950-09-01T00:00:00.000000000&#x27;, &#x27;1950-10-01T00:00:00.000000000&#x27;,\n",
       "       &#x27;1950-11-01T00:00:00.000000000&#x27;, &#x27;1950-12-01T00:00:00.000000000&#x27;,\n",
       "       &#x27;1951-01-01T00:00:00.000000000&#x27;, &#x27;1951-02-01T00:00:00.000000000&#x27;,\n",
       "       &#x27;1951-03-01T00:00:00.000000000&#x27;, &#x27;1951-04-01T00:00:00.000000000&#x27;,\n",
       "       &#x27;1951-05-01T00:00:00.000000000&#x27;, &#x27;1951-06-01T00:00:00.000000000&#x27;,\n",
       "       &#x27;1951-07-01T00:00:00.000000000&#x27;, &#x27;1951-08-01T00:00:00.000000000&#x27;,\n",
       "       &#x27;1951-09-01T00:00:00.000000000&#x27;, &#x27;1951-10-01T00:00:00.000000000&#x27;,\n",
       "       &#x27;1951-11-01T00:00:00.000000000&#x27;, &#x27;1951-12-01T00:00:00.000000000&#x27;,\n",
       "       &#x27;1952-01-01T00:00:00.000000000&#x27;, &#x27;1952-02-01T00:00:00.000000000&#x27;,\n",
       "       &#x27;1952-03-01T00:00:00.000000000&#x27;, &#x27;1952-04-01T00:00:00.000000000&#x27;,\n",
       "       &#x27;1952-05-01T00:00:00.000000000&#x27;, &#x27;1952-06-01T00:00:00.000000000&#x27;,\n",
       "       &#x27;1952-07-01T00:00:00.000000000&#x27;, &#x27;1952-08-01T00:00:00.000000000&#x27;,\n",
       "       &#x27;1952-09-01T00:00:00.000000000&#x27;, &#x27;1952-10-01T00:00:00.000000000&#x27;,\n",
       "       &#x27;1952-11-01T00:00:00.000000000&#x27;, &#x27;1952-12-01T00:00:00.000000000&#x27;,\n",
       "       &#x27;1953-01-01T00:00:00.000000000&#x27;, &#x27;1953-02-01T00:00:00.000000000&#x27;,\n",
       "       &#x27;1953-03-01T00:00:00.000000000&#x27;, &#x27;1953-04-01T00:00:00.000000000&#x27;,\n",
       "       &#x27;1953-05-01T00:00:00.000000000&#x27;, &#x27;1953-06-01T00:00:00.000000000&#x27;,\n",
       "       &#x27;1953-07-01T00:00:00.000000000&#x27;, &#x27;1953-08-01T00:00:00.000000000&#x27;,\n",
       "       &#x27;1953-09-01T00:00:00.000000000&#x27;, &#x27;1953-10-01T00:00:00.000000000&#x27;,\n",
       "       &#x27;1953-11-01T00:00:00.000000000&#x27;, &#x27;1953-12-01T00:00:00.000000000&#x27;,\n",
       "       &#x27;1954-01-01T00:00:00.000000000&#x27;, &#x27;1954-02-01T00:00:00.000000000&#x27;,\n",
       "       &#x27;1954-03-01T00:00:00.000000000&#x27;, &#x27;1954-04-01T00:00:00.000000000&#x27;,\n",
       "       &#x27;1954-05-01T00:00:00.000000000&#x27;, &#x27;1954-06-01T00:00:00.000000000&#x27;,\n",
       "       &#x27;1954-07-01T00:00:00.000000000&#x27;, &#x27;1954-08-01T00:00:00.000000000&#x27;,\n",
       "       &#x27;1954-09-01T00:00:00.000000000&#x27;, &#x27;1954-10-01T00:00:00.000000000&#x27;,\n",
       "       &#x27;1954-11-01T00:00:00.000000000&#x27;, &#x27;1954-12-01T00:00:00.000000000&#x27;,\n",
       "       &#x27;1955-01-01T00:00:00.000000000&#x27;, &#x27;1955-02-01T00:00:00.000000000&#x27;,\n",
       "       &#x27;1955-03-01T00:00:00.000000000&#x27;, &#x27;1955-04-01T00:00:00.000000000&#x27;,\n",
       "       &#x27;1955-05-01T00:00:00.000000000&#x27;, &#x27;1955-06-01T00:00:00.000000000&#x27;,\n",
       "       &#x27;1955-07-01T00:00:00.000000000&#x27;, &#x27;1955-08-01T00:00:00.000000000&#x27;,\n",
       "       &#x27;1955-09-01T00:00:00.000000000&#x27;, &#x27;1955-10-01T00:00:00.000000000&#x27;,\n",
       "       &#x27;1955-11-01T00:00:00.000000000&#x27;, &#x27;1955-12-01T00:00:00.000000000&#x27;,\n",
       "       &#x27;1956-01-01T00:00:00.000000000&#x27;, &#x27;1956-02-01T00:00:00.000000000&#x27;,\n",
       "       &#x27;1956-03-01T00:00:00.000000000&#x27;, &#x27;1956-04-01T00:00:00.000000000&#x27;,\n",
       "       &#x27;1956-05-01T00:00:00.000000000&#x27;, &#x27;1956-06-01T00:00:00.000000000&#x27;,\n",
       "       &#x27;1956-07-01T00:00:00.000000000&#x27;, &#x27;1956-08-01T00:00:00.000000000&#x27;,\n",
       "       &#x27;1956-09-01T00:00:00.000000000&#x27;, &#x27;1956-10-01T00:00:00.000000000&#x27;,\n",
       "       &#x27;1956-11-01T00:00:00.000000000&#x27;, &#x27;1956-12-01T00:00:00.000000000&#x27;,\n",
       "       &#x27;1957-01-01T00:00:00.000000000&#x27;, &#x27;1957-02-01T00:00:00.000000000&#x27;,\n",
       "       &#x27;1957-03-01T00:00:00.000000000&#x27;, &#x27;1957-04-01T00:00:00.000000000&#x27;,\n",
       "       &#x27;1957-05-01T00:00:00.000000000&#x27;, &#x27;1957-06-01T00:00:00.000000000&#x27;,\n",
       "       &#x27;1957-07-01T00:00:00.000000000&#x27;, &#x27;1957-08-01T00:00:00.000000000&#x27;,\n",
       "       &#x27;1957-09-01T00:00:00.000000000&#x27;, &#x27;1957-10-01T00:00:00.000000000&#x27;,\n",
       "       &#x27;1957-11-01T00:00:00.000000000&#x27;, &#x27;1957-12-01T00:00:00.000000000&#x27;,\n",
       "       &#x27;1958-01-01T00:00:00.000000000&#x27;, &#x27;1958-02-01T00:00:00.000000000&#x27;,\n",
       "       &#x27;1958-03-01T00:00:00.000000000&#x27;, &#x27;1958-04-01T00:00:00.000000000&#x27;,\n",
       "       &#x27;1958-05-01T00:00:00.000000000&#x27;, &#x27;1958-06-01T00:00:00.000000000&#x27;,\n",
       "       &#x27;1958-07-01T00:00:00.000000000&#x27;, &#x27;1958-08-01T00:00:00.000000000&#x27;,\n",
       "       &#x27;1958-09-01T00:00:00.000000000&#x27;, &#x27;1958-10-01T00:00:00.000000000&#x27;,\n",
       "       &#x27;1958-11-01T00:00:00.000000000&#x27;, &#x27;1958-12-01T00:00:00.000000000&#x27;,\n",
       "       &#x27;1959-01-01T00:00:00.000000000&#x27;], dtype=&#x27;datetime64[ns]&#x27;)</pre></div></li><li class='xr-var-item'><div class='xr-var-name'><span class='xr-has-index'>component</span></div><div class='xr-var-dims'>(component)</div><div class='xr-var-dtype'>object</div><div class='xr-var-preview xr-preview'>&#x27;#Passengers&#x27;</div><input id='attrs-f906960d-7acb-459e-a3f8-db5549be6af5' class='xr-var-attrs-in' type='checkbox' disabled><label for='attrs-f906960d-7acb-459e-a3f8-db5549be6af5' title='Show/Hide attributes'><svg class='icon xr-icon-file-text2'><use xlink:href='#icon-file-text2'></use></svg></label><input id='data-2daf0af1-8864-4ec1-88d4-b1dd54c2bfad' class='xr-var-data-in' type='checkbox'><label for='data-2daf0af1-8864-4ec1-88d4-b1dd54c2bfad' title='Show/Hide data repr'><svg class='icon xr-icon-database'><use xlink:href='#icon-database'></use></svg></label><div class='xr-var-attrs'><dl class='xr-attrs'></dl></div><div class='xr-var-data'><pre>array([&#x27;#Passengers&#x27;], dtype=object)</pre></div></li></ul></div></li><li class='xr-section-item'><input id='section-582d3ab9-d94a-4de5-b636-6ecfbac9b852' class='xr-section-summary-in' type='checkbox'  ><label for='section-582d3ab9-d94a-4de5-b636-6ecfbac9b852' class='xr-section-summary' >Indexes: <span>(2)</span></label><div class='xr-section-inline-details'></div><div class='xr-section-details'><ul class='xr-var-list'><li class='xr-var-item'><div class='xr-index-name'><div>Month</div></div><div class='xr-index-preview'>PandasIndex</div><div></div><input id='index-827bf86d-8dd6-4ac4-ae7d-f80800e33ca1' class='xr-index-data-in' type='checkbox'/><label for='index-827bf86d-8dd6-4ac4-ae7d-f80800e33ca1' title='Show/Hide index repr'><svg class='icon xr-icon-database'><use xlink:href='#icon-database'></use></svg></label><div class='xr-index-data'><pre>PandasIndex(DatetimeIndex([&#x27;1949-01-01&#x27;, &#x27;1949-02-01&#x27;, &#x27;1949-03-01&#x27;, &#x27;1949-04-01&#x27;,\n",
       "               &#x27;1949-05-01&#x27;, &#x27;1949-06-01&#x27;, &#x27;1949-07-01&#x27;, &#x27;1949-08-01&#x27;,\n",
       "               &#x27;1949-09-01&#x27;, &#x27;1949-10-01&#x27;,\n",
       "               ...\n",
       "               &#x27;1958-04-01&#x27;, &#x27;1958-05-01&#x27;, &#x27;1958-06-01&#x27;, &#x27;1958-07-01&#x27;,\n",
       "               &#x27;1958-08-01&#x27;, &#x27;1958-09-01&#x27;, &#x27;1958-10-01&#x27;, &#x27;1958-11-01&#x27;,\n",
       "               &#x27;1958-12-01&#x27;, &#x27;1959-01-01&#x27;],\n",
       "              dtype=&#x27;datetime64[ns]&#x27;, name=&#x27;Month&#x27;, length=121, freq=&#x27;MS&#x27;))</pre></div></li><li class='xr-var-item'><div class='xr-index-name'><div>component</div></div><div class='xr-index-preview'>PandasIndex</div><div></div><input id='index-d6b7a136-9f77-45f6-987d-b0400fd6db5a' class='xr-index-data-in' type='checkbox'/><label for='index-d6b7a136-9f77-45f6-987d-b0400fd6db5a' title='Show/Hide index repr'><svg class='icon xr-icon-database'><use xlink:href='#icon-database'></use></svg></label><div class='xr-index-data'><pre>PandasIndex(Index([&#x27;#Passengers&#x27;], dtype=&#x27;object&#x27;, name=&#x27;component&#x27;))</pre></div></li></ul></div></li><li class='xr-section-item'><input id='section-4522a2b3-c2e1-4411-bfbb-f584462a2d9d' class='xr-section-summary-in' type='checkbox'  checked><label for='section-4522a2b3-c2e1-4411-bfbb-f584462a2d9d' class='xr-section-summary' >Attributes: <span>(2)</span></label><div class='xr-section-inline-details'></div><div class='xr-section-details'><dl class='xr-attrs'><dt><span>static_covariates :</span></dt><dd>None</dd><dt><span>hierarchy :</span></dt><dd>None</dd></dl></div></li></ul></div></div>"
      ],
      "text/plain": [
       "<TimeSeries (DataArray) (Month: 121, component: 1, sample: 1)>\n",
       "array([[[0.01995012]],\n",
       "\n",
       "       [[0.03491271]],\n",
       "\n",
       "       [[0.06982544]],\n",
       "\n",
       "       [[0.06234413]],\n",
       "\n",
       "       [[0.04239401]],\n",
       "\n",
       "       [[0.07730672]],\n",
       "\n",
       "       [[0.10972568]],\n",
       "\n",
       "       [[0.10972568]],\n",
       "\n",
       "       [[0.07980049]],\n",
       "\n",
       "       [[0.03740647]],\n",
       "\n",
       "...\n",
       "\n",
       "       [[0.6084788 ]],\n",
       "\n",
       "       [[0.64588535]],\n",
       "\n",
       "       [[0.8254365 ]],\n",
       "\n",
       "       [[0.9650873 ]],\n",
       "\n",
       "       [[1.        ]],\n",
       "\n",
       "       [[0.7481297 ]],\n",
       "\n",
       "       [[0.6359103 ]],\n",
       "\n",
       "       [[0.51371574]],\n",
       "\n",
       "       [[0.5810474 ]],\n",
       "\n",
       "       [[0.638404  ]]], dtype=float32)\n",
       "Coordinates:\n",
       "  * Month      (Month) datetime64[ns] 1949-01-01 1949-02-01 ... 1959-01-01\n",
       "  * component  (component) object '#Passengers'\n",
       "Dimensions without coordinates: sample\n",
       "Attributes:\n",
       "    static_covariates:  None\n",
       "    hierarchy:          None"
      ]
     },
     "execution_count": 2,
     "metadata": {},
     "output_type": "execute_result"
    }
   ],
   "source": [
    "# Read data:\n",
    "series = AirPassengersDataset().load().astype(np.float32)\n",
    "\n",
    "# Create training and validation sets:\n",
    "train, val = series.split_after(pd.Timestamp(\"19590101\"))\n",
    "\n",
    "# Normalize the time series (note: we avoid fitting the transformer on the validation set)\n",
    "# Change name\n",
    "scaler = Scaler()\n",
    "train_scaled = scaler.fit_transform(train)\n",
    "val_scaled = scaler.transform(val)\n",
    "series_scaled = scaler.transform(series)\n",
    "train_scaled"
   ]
  },
  {
   "cell_type": "code",
   "execution_count": 3,
   "id": "b497ad1d",
   "metadata": {},
   "outputs": [
    {
     "data": {
      "text/plain": [
       "<darts.models.forecasting.transformer_model.TransformerModel at 0x2919fd34220>"
      ]
     },
     "execution_count": 3,
     "metadata": {},
     "output_type": "execute_result"
    }
   ],
   "source": [
    "my_model = TransformerModel(\n",
    "    pl_trainer_kwargs={\"accelerator\": \"gpu\", \"devices\": [0]},\n",
    "    input_chunk_length=12,\n",
    "    output_chunk_length=1,\n",
    "    batch_size=32,\n",
    "    n_epochs=200,\n",
    "    model_name=\"air_transformer\",\n",
    "    nr_epochs_val_period=10,\n",
    "    d_model=16,\n",
    "    nhead=8,\n",
    "    num_encoder_layers=2,\n",
    "    num_decoder_layers=2,\n",
    "    dim_feedforward=128,\n",
    "    dropout=0.1,\n",
    "    activation=\"relu\",\n",
    "    random_state=42,\n",
    "    save_checkpoints=True,\n",
    "    force_reset=True,\n",
    ")\n",
    "\n",
    "my_model"
   ]
  },
  {
   "cell_type": "code",
   "execution_count": 4,
   "id": "2cd0c9a5",
   "metadata": {},
   "outputs": [
    {
     "data": {
      "application/vnd.jupyter.widget-view+json": {
       "model_id": "",
       "version_major": 2,
       "version_minor": 0
      },
      "text/plain": [
       "Sanity Checking: 0it [00:00, ?it/s]"
      ]
     },
     "metadata": {},
     "output_type": "display_data"
    },
    {
     "data": {
      "application/vnd.jupyter.widget-view+json": {
       "model_id": "93c3455978b6481385b73a0161d6f03a",
       "version_major": 2,
       "version_minor": 0
      },
      "text/plain": [
       "Training: 0it [00:00, ?it/s]"
      ]
     },
     "metadata": {},
     "output_type": "display_data"
    },
    {
     "data": {
      "application/vnd.jupyter.widget-view+json": {
       "model_id": "",
       "version_major": 2,
       "version_minor": 0
      },
      "text/plain": [
       "Validation: 0it [00:00, ?it/s]"
      ]
     },
     "metadata": {},
     "output_type": "display_data"
    },
    {
     "data": {
      "application/vnd.jupyter.widget-view+json": {
       "model_id": "",
       "version_major": 2,
       "version_minor": 0
      },
      "text/plain": [
       "Validation: 0it [00:00, ?it/s]"
      ]
     },
     "metadata": {},
     "output_type": "display_data"
    },
    {
     "data": {
      "application/vnd.jupyter.widget-view+json": {
       "model_id": "",
       "version_major": 2,
       "version_minor": 0
      },
      "text/plain": [
       "Validation: 0it [00:00, ?it/s]"
      ]
     },
     "metadata": {},
     "output_type": "display_data"
    },
    {
     "data": {
      "application/vnd.jupyter.widget-view+json": {
       "model_id": "",
       "version_major": 2,
       "version_minor": 0
      },
      "text/plain": [
       "Validation: 0it [00:00, ?it/s]"
      ]
     },
     "metadata": {},
     "output_type": "display_data"
    },
    {
     "data": {
      "application/vnd.jupyter.widget-view+json": {
       "model_id": "",
       "version_major": 2,
       "version_minor": 0
      },
      "text/plain": [
       "Validation: 0it [00:00, ?it/s]"
      ]
     },
     "metadata": {},
     "output_type": "display_data"
    },
    {
     "data": {
      "application/vnd.jupyter.widget-view+json": {
       "model_id": "",
       "version_major": 2,
       "version_minor": 0
      },
      "text/plain": [
       "Validation: 0it [00:00, ?it/s]"
      ]
     },
     "metadata": {},
     "output_type": "display_data"
    },
    {
     "data": {
      "application/vnd.jupyter.widget-view+json": {
       "model_id": "",
       "version_major": 2,
       "version_minor": 0
      },
      "text/plain": [
       "Validation: 0it [00:00, ?it/s]"
      ]
     },
     "metadata": {},
     "output_type": "display_data"
    },
    {
     "data": {
      "application/vnd.jupyter.widget-view+json": {
       "model_id": "",
       "version_major": 2,
       "version_minor": 0
      },
      "text/plain": [
       "Validation: 0it [00:00, ?it/s]"
      ]
     },
     "metadata": {},
     "output_type": "display_data"
    },
    {
     "data": {
      "application/vnd.jupyter.widget-view+json": {
       "model_id": "",
       "version_major": 2,
       "version_minor": 0
      },
      "text/plain": [
       "Validation: 0it [00:00, ?it/s]"
      ]
     },
     "metadata": {},
     "output_type": "display_data"
    },
    {
     "data": {
      "application/vnd.jupyter.widget-view+json": {
       "model_id": "",
       "version_major": 2,
       "version_minor": 0
      },
      "text/plain": [
       "Validation: 0it [00:00, ?it/s]"
      ]
     },
     "metadata": {},
     "output_type": "display_data"
    },
    {
     "data": {
      "application/vnd.jupyter.widget-view+json": {
       "model_id": "",
       "version_major": 2,
       "version_minor": 0
      },
      "text/plain": [
       "Validation: 0it [00:00, ?it/s]"
      ]
     },
     "metadata": {},
     "output_type": "display_data"
    },
    {
     "data": {
      "application/vnd.jupyter.widget-view+json": {
       "model_id": "",
       "version_major": 2,
       "version_minor": 0
      },
      "text/plain": [
       "Validation: 0it [00:00, ?it/s]"
      ]
     },
     "metadata": {},
     "output_type": "display_data"
    },
    {
     "data": {
      "application/vnd.jupyter.widget-view+json": {
       "model_id": "",
       "version_major": 2,
       "version_minor": 0
      },
      "text/plain": [
       "Validation: 0it [00:00, ?it/s]"
      ]
     },
     "metadata": {},
     "output_type": "display_data"
    },
    {
     "data": {
      "application/vnd.jupyter.widget-view+json": {
       "model_id": "",
       "version_major": 2,
       "version_minor": 0
      },
      "text/plain": [
       "Validation: 0it [00:00, ?it/s]"
      ]
     },
     "metadata": {},
     "output_type": "display_data"
    },
    {
     "data": {
      "application/vnd.jupyter.widget-view+json": {
       "model_id": "",
       "version_major": 2,
       "version_minor": 0
      },
      "text/plain": [
       "Validation: 0it [00:00, ?it/s]"
      ]
     },
     "metadata": {},
     "output_type": "display_data"
    },
    {
     "data": {
      "application/vnd.jupyter.widget-view+json": {
       "model_id": "",
       "version_major": 2,
       "version_minor": 0
      },
      "text/plain": [
       "Validation: 0it [00:00, ?it/s]"
      ]
     },
     "metadata": {},
     "output_type": "display_data"
    },
    {
     "data": {
      "application/vnd.jupyter.widget-view+json": {
       "model_id": "",
       "version_major": 2,
       "version_minor": 0
      },
      "text/plain": [
       "Validation: 0it [00:00, ?it/s]"
      ]
     },
     "metadata": {},
     "output_type": "display_data"
    },
    {
     "data": {
      "application/vnd.jupyter.widget-view+json": {
       "model_id": "",
       "version_major": 2,
       "version_minor": 0
      },
      "text/plain": [
       "Validation: 0it [00:00, ?it/s]"
      ]
     },
     "metadata": {},
     "output_type": "display_data"
    },
    {
     "data": {
      "application/vnd.jupyter.widget-view+json": {
       "model_id": "",
       "version_major": 2,
       "version_minor": 0
      },
      "text/plain": [
       "Validation: 0it [00:00, ?it/s]"
      ]
     },
     "metadata": {},
     "output_type": "display_data"
    },
    {
     "data": {
      "application/vnd.jupyter.widget-view+json": {
       "model_id": "",
       "version_major": 2,
       "version_minor": 0
      },
      "text/plain": [
       "Validation: 0it [00:00, ?it/s]"
      ]
     },
     "metadata": {},
     "output_type": "display_data"
    },
    {
     "data": {
      "text/plain": [
       "<darts.models.forecasting.transformer_model.TransformerModel at 0x2919fd34220>"
      ]
     },
     "execution_count": 4,
     "metadata": {},
     "output_type": "execute_result"
    }
   ],
   "source": [
    "my_model.fit(series=train_scaled, val_series=val_scaled, verbose=True)"
   ]
  },
  {
   "cell_type": "code",
   "execution_count": 9,
   "id": "2eaf1c61",
   "metadata": {},
   "outputs": [
    {
     "data": {
      "application/vnd.jupyter.widget-view+json": {
       "model_id": "aae7c2f1d08c440ca18b53dbaad0fbb2",
       "version_major": 2,
       "version_minor": 0
      },
      "text/plain": [
       "Predicting: 4it [00:00, ?it/s]"
      ]
     },
     "metadata": {},
     "output_type": "display_data"
    },
    {
     "data": {
      "image/png": "[encoded data removed]",
      "text/plain": [
       "<Figure size 800x500 with 1 Axes>"
      ]
     },
     "metadata": {},
     "output_type": "display_data"
    }
   ],
   "source": [
    "def eval_model(model, n, series, val_series):\n",
    "    pred_series = model.predict(n=n)\n",
    "    plt.figure(figsize=(8, 5))\n",
    "    series.plot(label=\"actual\")\n",
    "    pred_series.plot(label=\"forecast\")\n",
    "    plt.title(\"MAPE: {:.2f}%\".format(mape(val_series, pred_series)))\n",
    "    plt.legend()\n",
    "\n",
    "\n",
    "eval_model(my_model, 26, series_scaled, val_scaled)"
   ]
  },
  {
   "cell_type": "code",
   "execution_count": 10,
   "id": "a9a585bd",
   "metadata": {},
   "outputs": [
    {
     "data": {
      "application/vnd.jupyter.widget-view+json": {
       "model_id": "f159c53f56504760823b1d1a5647e0d9",
       "version_major": 2,
       "version_minor": 0
      },
      "text/plain": [
       "Predicting: 0it [00:00, ?it/s]"
      ]
     },
     "metadata": {},
     "output_type": "display_data"
    },
    {
     "data": {
      "image/png": "[encoded data removed]",
      "text/plain": [
       "<Figure size 800x500 with 1 Axes>"
      ]
     },
     "metadata": {},
     "output_type": "display_data"
    }
   ],
   "source": [
    "best_model = TransformerModel.load_from_checkpoint(\n",
    "    model_name=\"air_transformer\", best=True\n",
    ")\n",
    "eval_model(best_model, 52, series_scaled, val_scaled)"
   ]
  },
  {
   "cell_type": "code",
   "execution_count": null,
   "id": "0408532d",
   "metadata": {},
   "outputs": [],
   "source": []
  }
 ],
 "metadata": {
  "kernelspec": {
   "display_name": "Python [conda env:torq2] *",
   "language": "python",
   "name": "conda-env-torq2-py"
  },
  "language_info": {
   "codemirror_mode": {
    "name": "ipython",
    "version": 3
   },
   "file_extension": ".py",
   "mimetype": "text/x-python",
   "name": "python",
   "nbconvert_exporter": "python",
   "pygments_lexer": "ipython3",
   "version": "3.8.13"
  }
 },
 "nbformat": 4,
 "nbformat_minor": 5
}
