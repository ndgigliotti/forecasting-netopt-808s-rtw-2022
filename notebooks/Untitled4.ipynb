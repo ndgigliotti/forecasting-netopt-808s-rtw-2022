{
 "cells": [
  {
   "cell_type": "code",
   "execution_count": 2,
   "id": "a9f7c1c5",
   "metadata": {},
   "outputs": [
    {
     "name": "stdout",
     "output_type": "stream",
     "text": [
      "The autoreload extension is already loaded. To reload it, use:\n",
      "  %reload_ext autoreload\n"
     ]
    }
   ],
   "source": [
    "%load_ext autoreload\n",
    "%autoreload 2\n",
    "\n",
    "import glob\n",
    "import numpy as np\n",
    "import pandas as pd\n",
    "from snowflake.snowpark import Session\n",
    "import json\n",
    "import shutil\n",
    "from sklearn.preprocessing import MinMaxScaler\n",
    "from tqdm.autonotebook import tqdm\n",
    "import seaborn as sns"
   ]
  },
  {
   "cell_type": "code",
   "execution_count": 4,
   "id": "d12f9c41",
   "metadata": {},
   "outputs": [
    {
     "data": {
      "text/plain": [
       "['data\\\\Challenge2_capacity_public.csv',\n",
       " 'data\\\\Challenge2_distances_public.csv',\n",
       " 'data\\\\Challenge2_second_leg_GHG_public.csv',\n",
       " 'data\\\\Challenge2_total_tires_public.csv',\n",
       " 'data\\\\Challenge2_vehicles_public.csv']"
      ]
     },
     "execution_count": 4,
     "metadata": {},
     "output_type": "execute_result"
    }
   ],
   "source": [
    "glob.glob(\"data/Challenge2*\")"
   ]
  },
  {
   "cell_type": "code",
   "execution_count": null,
   "id": "6c01570e",
   "metadata": {},
   "outputs": [],
   "source": [
    "cap = pd.read_csv(\"data/Challenge2_capacity_public.csv\")\n",
    "dists = pd.read_csv(\"data/Challenge2_distances_public.csv\")\n",
    "leg2_ghg = pd.read_csv(\"data/Challenge2_second_leg_GHG_public.csv\")\n",
    "tires = pd.read_csv(\"data/Challenge2_total_tires_public.csv\")\n",
    "veh = pd.read_csv(\"data/Challenge2_\")"
   ]
  }
 ],
 "metadata": {
  "kernelspec": {
   "display_name": "Python [conda env:torq2] *",
   "language": "python",
   "name": "conda-env-torq2-py"
  },
  "language_info": {
   "codemirror_mode": {
    "name": "ipython",
    "version": 3
   },
   "file_extension": ".py",
   "mimetype": "text/x-python",
   "name": "python",
   "nbconvert_exporter": "python",
   "pygments_lexer": "ipython3",
   "version": "3.8.13"
  }
 },
 "nbformat": 4,
 "nbformat_minor": 5
}
